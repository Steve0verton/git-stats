{
 "cells": [
  {
   "cell_type": "markdown",
   "id": "8a30d432",
   "metadata": {},
   "source": [
    "# Git Commit Productivity Analysis (Python Files Only)\n",
    "This notebook analyzes a local Git repository's commit history to generate developer productivity metrics."
   ]
  },
  {
   "cell_type": "code",
   "execution_count": null,
   "id": "4e73bb08",
   "metadata": {},
   "outputs": [],
   "source": [
    "!pip install gitpython pandas matplotlib"
   ]
  },
  {
   "cell_type": "code",
   "execution_count": null,
   "id": "661d71bc",
   "metadata": {},
   "outputs": [],
   "source": [
    "from git import Repo\n",
    "import pandas as pd\n",
    "import matplotlib.pyplot as plt\n",
    "from datetime import datetime"
   ]
  },
  {
   "cell_type": "code",
   "execution_count": null,
   "id": "d2bc189d",
   "metadata": {},
   "outputs": [],
   "source": [
    "# Update with your local repo path\n",
    "repo_path = \"/path/to/your/repo\"\n",
    "repo = Repo(repo_path)\n",
    "\n",
    "data = []\n",
    "for commit in repo.iter_commits():\n",
    "    author = commit.author.email\n",
    "    date = commit.authored_datetime.date()\n",
    "\n",
    "insertions = 0\n",
    "deletions = 0\n",
    "\n",
    "for fname, stats in commit.stats.files.items():\n",
    "    insertions += stats['insertions']\n",
    "    deletions += stats['deletions']\n",
    "\n",
    "    if insertions > 0 or deletions > 0:\n",
    "        data.append({\n",
    "            'author': author,\n",
    "            'date': pd.to_datetime(date),\n",
    "            'insertions': insertions,\n",
    "            'deletions': deletions\n",
    "        })\n",
    "\n",
    "df = pd.DataFrame(data)\n",
    "df.head()"
   ]
  },
  {
   "cell_type": "code",
   "execution_count": null,
   "id": "14711b24",
   "metadata": {},
   "outputs": [],
   "source": [
    "# Commits per author\n",
    "commit_counts = df['author'].value_counts()\n",
    "\n",
    "# Lines added/removed per author\n",
    "lines_by_author = df.groupby('author')[['insertions', 'deletions']].sum()\n",
    "lines_by_author['commits'] = df['author'].value_counts()\n",
    "\n",
    "lines_by_author"
   ]
  },
  {
   "cell_type": "code",
   "execution_count": null,
   "id": "de61c1a2",
   "metadata": {},
   "outputs": [],
   "source": [
    "commit_counts.plot(kind='bar', figsize=(8, 4), title='Commits per Developer', ylabel='Commits')\n",
    "plt.xticks(rotation=45)\n",
    "plt.grid(True)\n",
    "plt.show()"
   ]
  },
  {
   "cell_type": "code",
   "execution_count": null,
   "id": "e21eb5f4",
   "metadata": {},
   "outputs": [],
   "source": [
    "lines_by_author[['insertions', 'deletions']].plot(kind='bar', figsize=(10, 5), title='Lines Added vs Removed by Developer')\n",
    "plt.ylabel(\"Lines of Code\")\n",
    "plt.xticks(rotation=45)\n",
    "plt.grid(True)\n",
    "plt.show()"
   ]
  },
  {
   "cell_type": "code",
   "execution_count": null,
   "id": "06c8d09d",
   "metadata": {},
   "outputs": [],
   "source": [
    "df['month'] = df['date'].dt.to_period('M').dt.to_timestamp()\n",
    "monthly_summary = df.groupby('month')[['insertions', 'deletions']].sum()\n",
    "monthly_summary['commits'] = df.groupby('month').size()\n",
    "monthly_summary"
   ]
  },
  {
   "cell_type": "code",
   "execution_count": null,
   "id": "35a5ee01",
   "metadata": {},
   "outputs": [],
   "source": [
    "monthly_summary[['insertions', 'deletions']].plot(figsize=(10, 5), title='Code Changes Over Time (Monthly)', marker='o')\n",
    "plt.ylabel(\"Lines of Code\")\n",
    "plt.grid(True)\n",
    "plt.show()"
   ]
  },
  {
   "cell_type": "code",
   "execution_count": null,
   "id": "2445b005",
   "metadata": {},
   "outputs": [],
   "source": [
    "monthly_summary['commits'].plot(kind='bar', figsize=(10, 4), title='Commits Per Month')\n",
    "plt.ylabel(\"Commits\")\n",
    "plt.xticks(rotation=45)\n",
    "plt.grid(True)\n",
    "plt.show()"
   ]
  }
 ],
 "metadata": {
  "kernelspec": {
   "display_name": ".venv",
   "language": "python",
   "name": "python3"
  },
  "language_info": {
   "codemirror_mode": {
    "name": "ipython",
    "version": 3
   },
   "file_extension": ".py",
   "mimetype": "text/x-python",
   "name": "python",
   "nbconvert_exporter": "python",
   "pygments_lexer": "ipython3",
   "version": "3.13.5"
  }
 },
 "nbformat": 4,
 "nbformat_minor": 5
}
